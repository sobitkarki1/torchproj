{
 "cells": [
  {
   "cell_type": "code",
   "execution_count": 3,
   "metadata": {},
   "outputs": [
    {
     "name": "stdout",
     "output_type": "stream",
     "text": [
      "Input Tensor:\n",
      "tensor([[[[-2.3607,  0.0731,  1.5371, -0.3933,  0.1807],\n",
      "          [-0.3929,  1.7628,  0.9582,  1.0431, -0.5777],\n",
      "          [ 0.9776,  0.2346, -0.3280,  1.5717,  1.2380],\n",
      "          [ 0.3090, -0.0575,  0.3374, -1.6253, -0.0431],\n",
      "          [-2.1578,  1.5524,  0.9755,  0.0189,  0.4957]]]])\n",
      "torch.Size([1, 1, 5, 5])\n",
      "Output Tensor:\n",
      "tensor([[[[ 0.0276,  0.0158, -0.2662],\n",
      "          [ 0.2455,  0.7607,  1.2595],\n",
      "          [-0.2521, -0.2068, -0.4040]]]], grad_fn=<ConvolutionBackward0>)\n",
      "torch.Size([1, 1, 3, 3])\n",
      "Weights:\n",
      "Parameter containing:\n",
      "tensor([[[[ 0.1932,  0.2226,  0.0313],\n",
      "          [-0.1075,  0.2855, -0.0659],\n",
      "          [-0.1228, -0.2805, -0.2786]]]], requires_grad=True)\n",
      "Bias:\n",
      "Parameter containing:\n",
      "tensor([0.0314], requires_grad=True)\n",
      "Weights:\n",
      "torch.Size([1, 1, 3, 3])\n",
      "Bias:\n",
      "torch.Size([1])\n"
     ]
    }
   ],
   "source": [
    "import torch\n",
    "\n",
    "import torch.nn as nn\n",
    "\n",
    "# Define the input tensor with shape (batch_size, channels, height, width)\n",
    "input_tensor = torch.randn(1, 1, 5, 5)  # Example: 1 sample, 1 channel, 5x5 image\n",
    "\n",
    "# Define the Conv2d layer\n",
    "conv_layer = nn.Conv2d(in_channels=1, out_channels=1, kernel_size=3, stride=1, padding=0)\n",
    "\n",
    "# Print the input tensor\n",
    "print(\"Input Tensor:\")\n",
    "print(input_tensor)\n",
    "print(input_tensor.shape)\n",
    "\n",
    "# Apply the convolutional layer to the input tensor\n",
    "output_tensor = conv_layer(input_tensor)\n",
    "\n",
    "# Print the output tensor\n",
    "print(\"Output Tensor:\")\n",
    "print(output_tensor)\n",
    "print(output_tensor.shape)\n",
    "\n",
    "# Print the weights and bias of the convolutional layer\n",
    "print(\"Weights:\")\n",
    "print(conv_layer.weight)\n",
    "print(\"Bias:\")\n",
    "print(conv_layer.bias)\n",
    "\n",
    "\n",
    "# Print the weights and bias of the convolutional layer\n",
    "print(\"Weights:\")\n",
    "print(conv_layer.weight.shape)\n",
    "print(\"Bias:\")\n",
    "print(conv_layer.bias.shape)"
   ]
  }
 ],
 "metadata": {
  "kernelspec": {
   "display_name": "Python 3",
   "language": "python",
   "name": "python3"
  },
  "language_info": {
   "codemirror_mode": {
    "name": "ipython",
    "version": 3
   },
   "file_extension": ".py",
   "mimetype": "text/x-python",
   "name": "python",
   "nbconvert_exporter": "python",
   "pygments_lexer": "ipython3",
   "version": "3.13.2"
  }
 },
 "nbformat": 4,
 "nbformat_minor": 2
}
